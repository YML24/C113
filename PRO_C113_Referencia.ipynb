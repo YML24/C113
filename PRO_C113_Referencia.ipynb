{
  "nbformat": 4,
  "nbformat_minor": 0,
  "metadata": {
    "colab": {
      "name": "PRO-C113 Referencia.ipynb",
      "provenance": [],
      "collapsed_sections": []
    },
    "kernelspec": {
      "name": "python3",
      "display_name": "Python 3"
    },
    "language_info": {
      "name": "python"
    }
  },
  "cells": [
    {
      "cell_type": "markdown",
      "metadata": {
        "id": "PVe_ge-0KTVn"
      },
      "source": [
        "## Carga de datos\n",
        "\n",
        "**Estructura del directorio del conjunto de datos de la imagen**:\n",
        "\n",
        "**Nota: Los nombres de los directorios y sub-directorios que se muestran aquí son sólo para propósitos de explicación que pueden diferir del código.\n",
        "\n",
        "Supongamos que tenemos un directorio principal (carpeta) de las imágenes, entonces podemos subdividirlo en subdirectorios (subcarpetas) de imágenes de \"entrenamiento\" (*training*), \"validación\" (*validation*) y \"prueba\" (*testing*). \n",
        "\n",
        "Entonces los directorios de \"Entrenamiento\" contienen sub-directorios(sub-carpetas) llamados \"infectados\" (*infected*) y \"No infectados\" (*uninfected*))que contienen imágenes apropiadas en los respectivos sub-directorios.\n",
        "\n",
        "Del mismo modo, los directorios de \"validación\" y \"prueba\" también contienen subdirectorios (subcarpetas) denominados \"infectado\" y \"no infectado\" que contienen las imágenes adecuadas en los respectivos subdirectorios.\n",
        "\n",
        "\n",
        "**Entrenamiento**: Las imágenes de este directorio se utilizarán para el entrenamiento de los datos.\n",
        "\n",
        "**Validación**: Las imágenes de este directorio se utilizarán para validar el entrenamiento del modelo. El conjunto de datos de validación nos permite ver lo bien que los datos generalizan la clasificación.\n",
        "\n",
        "**Prueba**: Las imágenes de este directorio se utilizarán para probar lo bien que se ha entrenado el modelo.\n",
        "\n",
        "\n",
        "<img src=\"https://drive.google.com/uc?id=1-AMSvB19tME043-_oC9BQJIydiVCuukb\" width= 600>\n",
        "\n"
      ]
    },
    {
      "cell_type": "code",
      "metadata": {
        "colab": {
          "base_uri": "https://localhost:8080/"
        },
        "id": "7xCYT8gXKTVq",
        "outputId": "70a3fa8d-40f2-40f6-d520-783741192221"
      },
      "source": [
        "!git clone https://github.com/procodingclass/PRO-M3-Pneumothorax-Image-Dataset"
      ],
      "execution_count": null,
      "outputs": [
        {
          "output_type": "stream",
          "name": "stdout",
          "text": [
            "Cloning into 'PRO-M3-Pneumothorax-Image-Dataset'...\n",
            "remote: Enumerating objects: 637, done.\u001b[K\n",
            "remote: Total 637 (delta 0), reused 0 (delta 0), pack-reused 637\u001b[K\n",
            "Receiving objects: 100% (637/637), 231.39 MiB | 18.99 MiB/s, done.\n",
            "Resolving deltas: 100% (9/9), done.\n",
            "Checking out files: 100% (601/601), done.\n"
          ]
        }
      ]
    },
    {
      "cell_type": "markdown",
      "metadata": {
        "id": "G0nG4OkcN26G"
      },
      "source": [
        "## Procesamiento de imagen\n",
        "\n",
        "1. Convertir cada imagen en una matriz.\n",
        "2. Mapear las etiquetas de cada imagen.\n",
        "3. Aumentar cada imagen."
      ]
    },
    {
      "cell_type": "markdown",
      "metadata": {
        "id": "RtXxDq1O4okc"
      },
      "source": [
        "### Procesamiento de imagen: Mapear cada imagen con etiquetas"
      ]
    },
    {
      "cell_type": "markdown",
      "metadata": {
        "id": "1DIAsjUd343_"
      },
      "source": [
        "<center><b>Mapear cada imagen con etiquetas</b><br><img src=\"https://drive.google.com/uc?id=1_b1xd8UxuouE3zoTwzRxq3zPxzsnTF0U\" width= 1000>"
      ]
    },
    {
      "cell_type": "markdown",
      "metadata": {
        "id": "V6cHrlB-5xQ4"
      },
      "source": [
        "### Procesamiento de imagen: Aumento de datos\n",
        "\n",
        "Algunas técnicas de aumento de datos:\n",
        "\n",
        "*   Rotación de imagen.\n",
        "*   Desplazamiento de la altura y ancho de la imagen.\n",
        "*   Giro horizontal y vertical de la imagen.\n",
        "*   Cambio de tamaño de la imagen.\n",
        "*   Zoom de la imagen.\n",
        "\n",
        "\n",
        "<img src=\"https://drive.google.com/uc?id=1WiQYLCyavp0KlCXoHYIRT5KrjNLLR-Um\" width= 400>\n",
        "\n",
        "\n",
        "\n",
        "\n",
        "\n",
        "\n",
        "\n",
        "\n",
        "\n"
      ]
    },
    {
      "cell_type": "markdown",
      "metadata": {
        "id": "3NhJWjpUVBpu"
      },
      "source": [
        "#### Entrenamiento de datos"
      ]
    },
    {
      "cell_type": "code",
      "metadata": {
        "colab": {
          "base_uri": "https://localhost:8080/"
        },
        "id": "N5-_nrO7yn2D",
        "outputId": "46710426-8eb4-4f2e-8519-37842e82ed4f"
      },
      "source": [
        "import tensorflow as tf\n",
        "from tensorflow.keras.preprocessing.image import ImageDataGenerator\n",
        "from tensorflow.keras.preprocessing.image import img_to_array, load_img\n",
        "\n",
        "\n",
        "# Aumento de datos aleatorio (Cambio de tamaño, rotación, giros, zoom, transformaciones) usando ImageDataGenerator \n",
        "training_data_generator = ImageDataGenerator(\n",
        "    rescale = 1.0/255,\n",
        "    rotation_range=40,\n",
        "    width_shift_range=0.3,\n",
        "    height_shift_range=0.3,\n",
        "    zoom_range=0.3,\n",
        "    horizontal_flip=True,\n",
        "    vertical_flip=True,\n",
        "    fill_mode='nearest')\n",
        "\n",
        "\n",
        "# Directorio de la imagen\n",
        "training_image_directory = \"/content/PRO-M3-Pneumothorax-Image-Dataset/training_dataset\"\n",
        "\n",
        "# Generación de aumento de datos procesados\n",
        "training_augmented_images = training_data_generator.flow_from_directory(\n",
        "    training_image_directory,\n",
        "    target_size=(180,180))"
      ],
      "execution_count": null,
      "outputs": [
        {
          "output_type": "stream",
          "name": "stdout",
          "text": [
            "Found 200 images belonging to 2 classes.\n"
          ]
        }
      ]
    },
    {
      "cell_type": "markdown",
      "metadata": {
        "id": "iUOaQFdFVGmT"
      },
      "source": [
        "#### Validation Data"
      ]
    },
    {
      "cell_type": "code",
      "metadata": {
        "colab": {
          "base_uri": "https://localhost:8080/"
        },
        "id": "SS-Jx1EB-OFg",
        "outputId": "8f98ff43-9e4b-4355-e0e6-d5d709bd6d0b"
      },
      "source": [
        "# Aumento de datos aleatorio (cambio de tamaño) usando ImageDataGenerator\n",
        "validation_data_generator = ImageDataGenerator(rescale = 1.0/255)\n",
        "\n",
        "# Directorio de la imagen\n",
        "validation_image_directory = \"/content/PRO-M3-Pneumothorax-Image-Dataset/validation_dataset\"\n",
        "\n",
        "# Generación de aumento de datos procesados\n",
        "validation_augmented_images = validation_data_generator.flow_from_directory(\n",
        "    validation_image_directory,\n",
        "    target_size=(180,180))"
      ],
      "execution_count": null,
      "outputs": [
        {
          "output_type": "stream",
          "name": "stdout",
          "text": [
            "Found 200 images belonging to 2 classes.\n"
          ]
        }
      ]
    },
    {
      "cell_type": "markdown",
      "metadata": {
        "id": "PqKJ8zkPZs-G"
      },
      "source": [
        "#### Etiquetas de las clases"
      ]
    },
    {
      "cell_type": "code",
      "metadata": {
        "colab": {
          "base_uri": "https://localhost:8080/"
        },
        "id": "YUU7UKNhyftg",
        "outputId": "47735e68-91fd-43eb-9f16-861dd2d832b8"
      },
      "source": [
        "training_augmented_images.class_indices"
      ],
      "execution_count": null,
      "outputs": [
        {
          "output_type": "execute_result",
          "data": {
            "text/plain": [
              "{'infected': 0, 'uninfected': 1}"
            ]
          },
          "metadata": {},
          "execution_count": 4
        }
      ]
    },
    {
      "cell_type": "markdown",
      "metadata": {
        "id": "nKguVEnx3O4m"
      },
      "source": [
        "##  Arquitectura de las redes neuronales convolucionales\n",
        "Un modelo CNN consiste de:\n",
        "\n",
        "1. **Capas de aprendizaje de características**:\n",
        "\n",
        "   1.1 Capas de convolución + capas de activación (RELU).\n",
        "\n",
        "   1.2 Capas de agrupación o *pooling*\n",
        "\n",
        "2. **Capas de clasificación**:\n",
        "\n",
        "   2.1 Capas para aplanar.\n",
        "\n",
        "   2.2 Capas completamente conectadas (densas) \n",
        "\n",
        "   2.3 Capas completamente conectadas (densas) con Softmax\n",
        "\n",
        "\n",
        "\n",
        "\n",
        "<img src=\"https://drive.google.com/uc?id=1OD6XteFaDvTTliIDn2xa6pP_iH_gk1xO\" width= 1500>\n"
      ]
    },
    {
      "cell_type": "markdown",
      "metadata": {
        "id": "8T-8YEZK3aj_"
      },
      "source": [
        "**Visualización de la extracción de características(convolución + Relu)**\n",
        "\n",
        "La convolución es un cálculo matemático entre dos matrices, la matriz de imágenes y la matriz de filtros, que da una nueva matriz de imágenes.\n",
        "\n",
        "\n",
        "Visualmente podemos entender que el detector de características/filtro se mueve sobre la imagen para extraer características de la misma.\n",
        "\n",
        "\n",
        "\n",
        "[<img src=\"https://drive.google.com/uc?id=1Sw7iKlkJbP_PCt6tNwhwc3VVQupG7YOi\" width= 500>](https://)\n"
      ]
    },
    {
      "cell_type": "markdown",
      "metadata": {
        "id": "xHHUNrcWC91w"
      },
      "source": [
        "## Matemáticamente:"
      ]
    },
    {
      "cell_type": "markdown",
      "metadata": {
        "id": "_tQ9L7AzCXN3"
      },
      "source": [
        "**Conv2D Layer**\n",
        "\n",
        "La convolución es un cálculo matemático entre dos matrices 2D, la matriz de imágenes y la matriz de filtros, que da lugar a una nueva matriz de imágenes.\n",
        "\n",
        "Se toma una porción de la matriz de la imagen de entrada, llamada submatriz (de tamaño igual al tamaño del filtro), empezando por la parte superior izquierda.\n",
        "\n",
        "Esta submatriz se multiplica por la matriz del filtro. Podemos multiplicar una matriz con otra, multiplicando el primer elemento por el primer elemento de ambas matrices (el segundo elemento por el segundo elemento de ambas matrices y así sucesivamente).\n",
        "\n",
        "Después de multiplicar, el resultado se suma, lo que da el valor del 1er elemento de la nueva matriz de imagen.\n",
        "\n",
        "Luego nos desplazamos hacia la derecha en una columna y repetimos los pasos anteriores para obtener el valor del segundo elemento de la nueva matriz.\n",
        "\n",
        "Una vez terminada toda la fila, nos desplazamos una fila hacia abajo y repetimos los pasos anteriores para obtener el valor de todos los elementos de la nueva matriz, uno por uno.\n",
        "\n",
        "Todo el proceso se repite con diferentes filtros, para obtener diferentes salidas, que en conjunto es la salida de la 1ª capa Conv2D.\n",
        "\n",
        "Estas salidas de la 1ª capa Conv2D se dan a la 2ª capa Conv2D y se realizan las convoluciones.\n",
        "\n",
        "Esto se repite para todas las capas del modelo CNN.\n",
        "\n",
        "\n",
        "\n",
        "<img src=\"https://drive.google.com/uc?id=1IRxv0-ZJb1Rm7VAS08Q29fLB0RpCTCSw\" width= 800>\n"
      ]
    },
    {
      "cell_type": "markdown",
      "metadata": {
        "id": "UZhK3L6qCW0C"
      },
      "source": [
        "**ReLU**\n",
        "\n",
        "ReLU se define como una función, y= f(x) tal que asigna x para todos los valores x > 0 y 0 para todos los valores x<0.\n",
        "\n",
        "<img src=\"https://drive.google.com/uc?id=1p_1QMI8B926gbChOaqBHGioxW38vMhSw\" width= 600>\n"
      ]
    },
    {
      "cell_type": "markdown",
      "metadata": {
        "id": "3yV1sDPWBZsS"
      },
      "source": [
        "**MaxPooling2D**\n",
        "\n",
        "Primero, hay una matriz de entrada (por ejemplo, 4x4) y otra matriz de un tamaño específico (por ejemplo 2x2) a la que se le conoce como pool. El tamaño de la matriz pool siempre es menor que el tamaño de la matriz de entrada.\n",
        "Pool se suele usar para recursos que se almacenan listos para ser usados, en lugar de ser adquiridos y liberados después.\n",
        "\n",
        "Luego, el valor máximo se toma de la sub-matriz que tenga igual tamaño que la matriz pool.\n",
        "\n",
        "El resultado después de aplicar Max Pooling será la nueva matriz con tamaño igual a la mitad del tamaño de la matriz de entrada original\n",
        "\n",
        "Dado que nuestra matriz de entrada es de 4x4, después del max pooling, la nueva matriz será 2x2, lo que reduce la dimensión de la matriz.\n",
        "\n",
        "\n",
        "\n",
        "<img src=\"https://drive.google.com/uc?id=1YN6RSi6HxDj9tCgQTSm-sP6wUrJ7Iu-D\" width= 800>\n",
        "\n"
      ]
    },
    {
      "cell_type": "markdown",
      "metadata": {
        "id": "_hMRvgb4W7MF"
      },
      "source": [
        "## Definir el modelo de red neuronal convolucional (CNN)"
      ]
    },
    {
      "cell_type": "code",
      "metadata": {
        "id": "iOw4OJQo-p-9"
      },
      "source": [
        "model = tf.keras.models.Sequential([\n",
        "    \n",
        "    # 1a Capa de convolución y capa pooling \n",
        "    tf.keras.layers.Conv2D(64, (3,3), activation='relu', input_shape=(180, 180, 3)),\n",
        "    tf.keras.layers.MaxPooling2D(2, 2),\n",
        "\n",
        "    # 2a Capa de convolución y capa pooling\n",
        "    tf.keras.layers.Conv2D(64, (3,3), activation='relu'),\n",
        "    tf.keras.layers.MaxPooling2D(2,2),\n",
        "\n",
        "    # 3a Capa de convolución y capa pooling\n",
        "    tf.keras.layers.Conv2D(128, (3,3), activation='relu'),\n",
        "    tf.keras.layers.MaxPooling2D(2,2),\n",
        "\n",
        "    # 4a Capa de convolución y capa pooling\n",
        "    tf.keras.layers.Conv2D(128, (3,3), activation='relu'),\n",
        "    tf.keras.layers.MaxPooling2D(2,2),\n",
        "\n",
        "    # Aplanar los resultados para ingresarlos a la capa densa\n",
        "    tf.keras.layers.Flatten(),\n",
        "    tf.keras.layers.Dropout(0.5),\n",
        "\n",
        "    # Capa de clasificación\n",
        "    tf.keras.layers.Dense(512, activation='relu'),\n",
        "    tf.keras.layers.Dense(2, activation='softmax')\n",
        "])"
      ],
      "execution_count": null,
      "outputs": []
    },
    {
      "cell_type": "markdown",
      "metadata": {
        "id": "vuhJ_4N6XCle"
      },
      "source": [
        "## Resumen del modelo"
      ]
    },
    {
      "cell_type": "code",
      "metadata": {
        "colab": {
          "base_uri": "https://localhost:8080/"
        },
        "id": "BvxQyRT2-wBY",
        "outputId": "25808413-574c-462f-c576-9ca150cf2c0d"
      },
      "source": [
        "model.summary()"
      ],
      "execution_count": null,
      "outputs": [
        {
          "output_type": "stream",
          "name": "stdout",
          "text": [
            "Model: \"sequential\"\n",
            "_________________________________________________________________\n",
            " Layer (type)                Output Shape              Param #   \n",
            "=================================================================\n",
            " conv2d (Conv2D)             (None, 178, 178, 64)      1792      \n",
            "                                                                 \n",
            " max_pooling2d (MaxPooling2D  (None, 89, 89, 64)       0         \n",
            " )                                                               \n",
            "                                                                 \n",
            " conv2d_1 (Conv2D)           (None, 87, 87, 64)        36928     \n",
            "                                                                 \n",
            " max_pooling2d_1 (MaxPooling  (None, 43, 43, 64)       0         \n",
            " 2D)                                                             \n",
            "                                                                 \n",
            " conv2d_2 (Conv2D)           (None, 41, 41, 128)       73856     \n",
            "                                                                 \n",
            " max_pooling2d_2 (MaxPooling  (None, 20, 20, 128)      0         \n",
            " 2D)                                                             \n",
            "                                                                 \n",
            " conv2d_3 (Conv2D)           (None, 18, 18, 128)       147584    \n",
            "                                                                 \n",
            " max_pooling2d_3 (MaxPooling  (None, 9, 9, 128)        0         \n",
            " 2D)                                                             \n",
            "                                                                 \n",
            " flatten (Flatten)           (None, 10368)             0         \n",
            "                                                                 \n",
            " dropout (Dropout)           (None, 10368)             0         \n",
            "                                                                 \n",
            " dense (Dense)               (None, 512)               5308928   \n",
            "                                                                 \n",
            " dense_1 (Dense)             (None, 2)                 1026      \n",
            "                                                                 \n",
            "=================================================================\n",
            "Total params: 5,570,114\n",
            "Trainable params: 5,570,114\n",
            "Non-trainable params: 0\n",
            "_________________________________________________________________\n"
          ]
        }
      ]
    },
    {
      "cell_type": "markdown",
      "metadata": {
        "id": "9U9aDI1zWEs6"
      },
      "source": [
        "## Visualización de las salidas intermedias de las capas de convolución\n",
        "\n",
        "\n",
        "Podemos ver la salida de las **4 capas convolucionales** (conv2d, conv2d_1, conv2d_2, conv2d_3) con capas de  **max pooling** (max_pooling2d, max_pooling2d_1, max_pooling2d_2, max_pooling2d_3)\n",
        "\n",
        "**Nota: Esta imagen está creada solo con fines explicativos.**\n",
        "\n",
        "Al comienzo de una red convolucional, el filtro (detector de características/kernel) detecta patrones simples, como líneas horizontales, líneas verticales y esquinas, formas simples. \n",
        "\n",
        "En las capas posteriores de la red, los filtros (detector de características/kernel) son complejos que detectan formas, objetos y otras estructuras complejas, lo que se hace utilizando la característica anteriormente generada y sus características simples detectadas, para construir otras más complejas. \n",
        "\n",
        "\n",
        "*Nota: A medida que profundizamos en las capas, las características se vuelven cada vez más complejas y, por lo tanto, menos interpretables visualmente. Se comienzan a programar conceptos de nivel superior, como bordes, esquinas y ángulos únicos. Las presentaciones superiores llevan cada vez menos información sobre los contenidos visuales de la imagen, y cada vez más información relacionada con la clase de la imagen, por lo que las salidas de la capa densa no se mostrarán para una explicación visual.*\n",
        "\n",
        "\n",
        "\n",
        "<img src=\"https://s3-whjr-curriculum-uploads.whjr.online/b941c8bd-c137-449f-ae8f-7233735a7845.jpg\" width= 800>\n",
        "\n"
      ]
    },
    {
      "cell_type": "markdown",
      "metadata": {
        "id": "iNSPGf6BZxVs"
      },
      "source": [
        "## Modelo de compilación\n",
        "\n",
        "Antes de entrenar el modelo, necesitamos compilarlo. Compilamos el modelo utilizando el método compile() (Keras).\n",
        "\n",
        "El método compile puede tomar muchos argumentos, pero pasaremos los tres argumentos que deben especificarse. Los argumentos son:\n",
        "\n",
        "1.\tOptimizadores.\n",
        "\n",
        "2.\tFunción de pérdida.\n",
        "\n",
        "3.\tMétricas para la predicción.\n",
        "\n",
        "<img src=\"https://drive.google.com/uc?id=1RtOtl7uckZtdY5CQLvIzG49-8_ZM1FYj\" width= 500>\n",
        "\n",
        "**Necesidad de la compilación del modelo**\n",
        "\n",
        "Cuando el modelo está entrenado casi nunca ocurre que sea 100% eficiente; es decir que no siempre puede predecir la clase de la imagen correctamente.\n",
        "\n",
        "Esto lleva al concepto de pérdida durante el entrenamiento del modelo, que nos dice qué tan mal está funcionando el modelo.\n",
        "\n",
        "Por lo tanto, necesitamos usar las funciones de pérdida (estas son funciones de cálculo matemático) para obtener el valor de la pérdida.\n",
        "\n",
        "Por ejemplo, el resultado de la función de pérdida da un valor de 0.45, esto significa que el 45 % (0.45 x 100) de las veces, el modelo predecirá resultados incorrectos, ¡y solo el 55% de las veces predecirá los resultados correctos!\n",
        "\n",
        "Eso significa que debemos tratar de minimizar el valor de la función de pérdida, porque un valor de pérdida más bajo significa que nuestro modelo va a funcionar mejor. El proceso de minimizar (o maximizar) el valor de una función/expresión matemática se denomina optimización.\n",
        "\n",
        "<br><img src=\"https://drive.google.com/uc?id=1wfmlzJ5hAjL8T2nkkwSDIe_IVmhh97PL\" width= 400>"
      ]
    },
    {
      "cell_type": "markdown",
      "source": [
        "### Compilar modelo"
      ],
      "metadata": {
        "id": "VQNzB5be5Ttm"
      }
    },
    {
      "cell_type": "code",
      "source": [
        "\n",
        "model.compile(loss='binary_crossentropy', optimizer='adam', metrics=['accuracy'])"
      ],
      "metadata": {
        "id": "OAdwbhLPCPfW"
      },
      "execution_count": null,
      "outputs": []
    },
    {
      "cell_type": "markdown",
      "source": [
        "## Ajustar y guardar el modelo"
      ],
      "metadata": {
        "id": "21jKUCRyCg_m"
      }
    },
    {
      "cell_type": "code",
      "metadata": {
        "colab": {
          "base_uri": "https://localhost:8080/"
        },
        "id": "W_wpcdoL-5Lb",
        "outputId": "eaf934d3-fc6f-4055-fee6-f13966f68d42"
      },
      "source": [
        "history = model.fit(training_augmented_images, epochs=20, validation_data = validation_augmented_images, verbose=True)\n",
        "\n",
        "model.save(\"Pneumothorax.h5\")"
      ],
      "execution_count": null,
      "outputs": [
        {
          "output_type": "stream",
          "name": "stdout",
          "text": [
            "Epoch 1/20\n",
            "7/7 [==============================] - 31s 4s/step - loss: 0.7114 - accuracy: 0.4350 - val_loss: 0.6933 - val_accuracy: 0.5000\n",
            "Epoch 2/20\n",
            "7/7 [==============================] - 28s 4s/step - loss: 0.6994 - accuracy: 0.5000 - val_loss: 0.6935 - val_accuracy: 0.5000\n",
            "Epoch 3/20\n",
            "7/7 [==============================] - 29s 5s/step - loss: 0.6932 - accuracy: 0.5000 - val_loss: 0.6929 - val_accuracy: 0.5000\n",
            "Epoch 4/20\n",
            "7/7 [==============================] - 28s 4s/step - loss: 0.6933 - accuracy: 0.4850 - val_loss: 0.6930 - val_accuracy: 0.5100\n",
            "Epoch 5/20\n",
            "7/7 [==============================] - 27s 4s/step - loss: 0.6934 - accuracy: 0.5100 - val_loss: 0.6926 - val_accuracy: 0.5000\n",
            "Epoch 6/20\n",
            "7/7 [==============================] - 28s 4s/step - loss: 0.6942 - accuracy: 0.5000 - val_loss: 0.6928 - val_accuracy: 0.5000\n",
            "Epoch 7/20\n",
            "7/7 [==============================] - 28s 4s/step - loss: 0.6931 - accuracy: 0.5000 - val_loss: 0.6928 - val_accuracy: 0.5000\n",
            "Epoch 8/20\n",
            "7/7 [==============================] - 28s 4s/step - loss: 0.6941 - accuracy: 0.5000 - val_loss: 0.6929 - val_accuracy: 0.5000\n",
            "Epoch 9/20\n",
            "7/7 [==============================] - 28s 4s/step - loss: 0.6937 - accuracy: 0.5050 - val_loss: 0.6930 - val_accuracy: 0.5000\n",
            "Epoch 10/20\n",
            "7/7 [==============================] - 28s 4s/step - loss: 0.6931 - accuracy: 0.5050 - val_loss: 0.6930 - val_accuracy: 0.5000\n",
            "Epoch 11/20\n",
            "7/7 [==============================] - 28s 4s/step - loss: 0.6935 - accuracy: 0.5000 - val_loss: 0.6930 - val_accuracy: 0.5000\n",
            "Epoch 12/20\n",
            "7/7 [==============================] - 28s 4s/step - loss: 0.6931 - accuracy: 0.5000 - val_loss: 0.6929 - val_accuracy: 0.5000\n",
            "Epoch 13/20\n",
            "7/7 [==============================] - 28s 4s/step - loss: 0.6934 - accuracy: 0.5000 - val_loss: 0.6929 - val_accuracy: 0.5000\n",
            "Epoch 14/20\n",
            "7/7 [==============================] - 28s 4s/step - loss: 0.6933 - accuracy: 0.5000 - val_loss: 0.6928 - val_accuracy: 0.5000\n",
            "Epoch 15/20\n",
            "7/7 [==============================] - 28s 4s/step - loss: 0.6931 - accuracy: 0.5000 - val_loss: 0.6928 - val_accuracy: 0.5000\n",
            "Epoch 16/20\n",
            "7/7 [==============================] - 28s 4s/step - loss: 0.6936 - accuracy: 0.5000 - val_loss: 0.6928 - val_accuracy: 0.5000\n",
            "Epoch 17/20\n",
            "7/7 [==============================] - 28s 4s/step - loss: 0.6929 - accuracy: 0.5000 - val_loss: 0.6926 - val_accuracy: 0.5000\n",
            "Epoch 18/20\n",
            "7/7 [==============================] - 28s 4s/step - loss: 0.6931 - accuracy: 0.5000 - val_loss: 0.6931 - val_accuracy: 0.5700\n",
            "Epoch 19/20\n",
            "7/7 [==============================] - 28s 4s/step - loss: 0.6934 - accuracy: 0.4950 - val_loss: 0.6930 - val_accuracy: 0.5000\n",
            "Epoch 20/20\n",
            "7/7 [==============================] - 28s 4s/step - loss: 0.6947 - accuracy: 0.4650 - val_loss: 0.6934 - val_accuracy: 0.4650\n"
          ]
        }
      ]
    },
    {
      "cell_type": "markdown",
      "metadata": {
        "id": "tSux4trCX_4a"
      },
      "source": [
        "## Ejecutar/Probar el modelo\n",
        " #### Predecir la clase de la imagen que no ha sido vista."
      ]
    },
    {
      "cell_type": "code",
      "metadata": {
        "colab": {
          "base_uri": "https://localhost:8080/"
        },
        "id": "Rv7ftEOGD4hl",
        "outputId": "0f64dfac-d17f-43be-f35b-18835520bb52"
      },
      "source": [
        "training_augmented_images.class_indices"
      ],
      "execution_count": null,
      "outputs": [
        {
          "output_type": "execute_result",
          "data": {
            "text/plain": [
              "{'infected': 0, 'uninfected': 1}"
            ]
          },
          "metadata": {},
          "execution_count": 9
        }
      ]
    },
    {
      "cell_type": "code",
      "metadata": {
        "colab": {
          "base_uri": "https://localhost:8080/",
          "height": 264
        },
        "outputId": "87b71248-9cf5-4778-e929-6e2ab3b94cda",
        "id": "TdRa_MrC21v7"
      },
      "source": [
        "import os\n",
        "import numpy as np\n",
        "\n",
        "from matplotlib import pyplot\n",
        "from matplotlib.image import imread\n",
        "\n",
        "import tensorflow\n",
        "from tensorflow.keras.preprocessing.image import load_img\n",
        "\n",
        "from tensorflow.keras.preprocessing.image import img_to_array\n",
        "\n",
        "# Directorio de la imagen de prueba\n",
        "testing_image_directory = '/content/PRO-M3-Pneumothorax-Image-Dataset/testing_dataset/infected'\n",
        "\n",
        "# Todos los archivos de imagen en el directorio\n",
        "img_files = os.listdir(testing_image_directory)\n",
        "\n",
        "i= 0\n",
        "\n",
        "# Bucle para 9 archivos de imagen\n",
        "for file in img_files[51:60]:\n",
        "\n",
        "  # Ruta completa de la imagen\n",
        "  img_files_path = os.path.join(testing_image_directory, file)\n",
        "\n",
        "  # Cargar imagen \n",
        "  img_1 = load_img(img_files_path,target_size=(180, 180))\n",
        "\n",
        "  # Convertir la imagen en matriz\n",
        "  img_2 = img_to_array(img_1)\n",
        "\n",
        "  # Aumentar la dimensión\n",
        "  img_3 = np.expand_dims(img_2, axis=0)\n",
        "  \n",
        "  # Predecir la clase de la imagen que no se ha visto\n",
        "  prediction = model.predict(img_3)\n",
        "  # print(prediction)\n",
        "\n",
        "  predict_class = np.argmax(prediction, axis=1)\n",
        "  # print(predict_class)\n",
        "\n",
        "  # Graficar la imagen usando subplot\n",
        "  pyplot.subplot(3, 3, i+1)\n",
        "  pyplot.imshow(img_2.astype('uint8'))\n",
        "  \n",
        "  # Agregar título a la imagen como el valor de la clase predecida\n",
        "  pyplot.title(predict_class[0])\n",
        "\n",
        "  # No mostrar los ejes x, y en la imagen\n",
        "  pyplot.axis('off')\n",
        "\n",
        "  i=i+1\n",
        "\n",
        "pyplot.show()"
      ],
      "execution_count": null,
      "outputs": [
        {
          "output_type": "display_data",
          "data": {
            "image/png": "[encoded data removed]",
            "text/plain": [
              "<Figure size 432x288 with 9 Axes>"
            ]
          },
          "metadata": {
            "needs_background": "light"
          }
        }
      ]
    },
    {
      "cell_type": "markdown",
      "source": [
        "##Actividad adicional"
      ],
      "metadata": {
        "id": "pHw01Fcv4Or8"
      }
    },
    {
      "cell_type": "markdown",
      "source": [
        "## Curva de precisión "
      ],
      "metadata": {
        "id": "NAgAHlBs4Wqk"
      }
    },
    {
      "cell_type": "code",
      "metadata": {
        "id": "1iczvZ17_mPR",
        "colab": {
          "base_uri": "https://localhost:8080/",
          "height": 281
        },
        "outputId": "30cc5503-fe1c-4beb-f244-fed9b4dc6262"
      },
      "source": [
        "from matplotlib import pyplot\n",
        "\n",
        "acc = history.history['accuracy']\n",
        "val_acc = history.history['val_accuracy']\n",
        "\n",
        "# print(acc)\n",
        "# print(val_acc)\n",
        "\n",
        "epochs = range(len(acc))\n",
        "\n",
        "pyplot.plot(epochs, acc, 'r', label='Precisión del entrenamiento')\n",
        "pyplot.plot(epochs, val_acc, 'b', label='Precisión de la validación')\n",
        "\n",
        "pyplot.title('Precisión del entrenamiento y la validación')\n",
        "\n",
        "pyplot.legend()\n",
        "\n",
        "pyplot.show()"
      ],
      "execution_count": null,
      "outputs": [
        {
          "output_type": "display_data",
          "data": {
            "image/png": "[encoded data removed]",
            "text/plain": [
              "<Figure size 432x288 with 1 Axes>"
            ]
          },
          "metadata": {
            "needs_background": "light"
          }
        }
      ]
    }
  ]
}